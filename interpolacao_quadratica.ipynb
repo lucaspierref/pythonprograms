{
  "nbformat": 4,
  "nbformat_minor": 0,
  "metadata": {
    "colab": {
      "provenance": [],
      "authorship_tag": "ABX9TyPHXpHhyIQUxL0GdEjv/+kk",
      "include_colab_link": true
    },
    "kernelspec": {
      "name": "python3",
      "display_name": "Python 3"
    },
    "language_info": {
      "name": "python"
    }
  },
  "cells": [
    {
      "cell_type": "markdown",
      "metadata": {
        "id": "view-in-github",
        "colab_type": "text"
      },
      "source": [
        "<a href=\"https://colab.research.google.com/github/lucaspierref/exemplo-colaboratory/blob/main/interpolacao_quadratica.ipynb\" target=\"_parent\"><img src=\"https://colab.research.google.com/assets/colab-badge.svg\" alt=\"Open In Colab\"/></a>"
      ]
    },
    {
      "cell_type": "code",
      "execution_count": null,
      "metadata": {
        "id": "RS09m0AO2BMy"
      },
      "outputs": [],
      "source": []
    },
    {
      "cell_type": "markdown",
      "source": [
        "## Interpolação Quadrática\n"
      ],
      "metadata": {
        "id": "m0z_U__-2FqS"
      }
    },
    {
      "cell_type": "code",
      "source": [
        "# Autor: Lucas Pierre D. F.\n",
        "import numpy as np\n",
        "import matplotlib.pyplot as plt\n"
      ],
      "metadata": {
        "id": "5xmZ4NND2KJE"
      },
      "execution_count": null,
      "outputs": []
    },
    {
      "cell_type": "code",
      "source": [
        "(x0,y0) = (0,0)\n",
        "(x1,y1) = (1,1)\n",
        "(x2,y2) = (4,4)\n",
        "\n",
        "p0=(x0,y0)\n",
        "p1=(x1,y1)\n",
        "p2=(x2,y2)\n",
        "\n",
        "M = np.zeros([3,3])"
      ],
      "metadata": {
        "id": "VpWvf4ym2RfQ"
      },
      "execution_count": null,
      "outputs": []
    },
    {
      "cell_type": "code",
      "source": [
        "M"
      ],
      "metadata": {
        "colab": {
          "base_uri": "https://localhost:8080/"
        },
        "id": "MakU4Kf72_VL",
        "outputId": "fefbe172-86b0-4350-e5dc-386f3d670d7d"
      },
      "execution_count": null,
      "outputs": [
        {
          "output_type": "execute_result",
          "data": {
            "text/plain": [
              "array([[0., 0., 0.],\n",
              "       [0., 0., 0.],\n",
              "       [0., 0., 0.]])"
            ]
          },
          "metadata": {},
          "execution_count": 18
        }
      ]
    },
    {
      "cell_type": "code",
      "source": [
        "M[0,0] = 1\n",
        "M[0,1] = x0\n",
        "M[0,2] = x0**2\n",
        "M[1,0] = 1\n",
        "M[1,1] = x1\n",
        "M[1,2] = x1**2\n",
        "\n",
        "M[2,0] = 1\n",
        "M[2,1] = x2\n",
        "M[2,2] = x2**2\n",
        "\n",
        "\n",
        "for i in range(3):\n",
        "  for j in range(3):\n",
        "    M[i,j]\n"
      ],
      "metadata": {
        "id": "xKqf4eR83SMB"
      },
      "execution_count": null,
      "outputs": []
    },
    {
      "cell_type": "code",
      "source": [
        "M"
      ],
      "metadata": {
        "colab": {
          "base_uri": "https://localhost:8080/"
        },
        "id": "QFCzKp6L30rZ",
        "outputId": "cbb1bdbe-1a9f-4d6b-9995-6ad3e4a71db1"
      },
      "execution_count": null,
      "outputs": [
        {
          "output_type": "execute_result",
          "data": {
            "text/plain": [
              "array([[ 1.,  0.,  0.],\n",
              "       [ 1.,  1.,  1.],\n",
              "       [ 1.,  4., 16.]])"
            ]
          },
          "metadata": {},
          "execution_count": 24
        }
      ]
    },
    {
      "cell_type": "code",
      "source": [
        "y = np.array([y0,y1,y2])"
      ],
      "metadata": {
        "id": "St1nncKP4RNL"
      },
      "execution_count": null,
      "outputs": []
    },
    {
      "cell_type": "code",
      "source": [
        "N = np.linalg.inv(M)"
      ],
      "metadata": {
        "id": "6VPMwyHB4Zff"
      },
      "execution_count": null,
      "outputs": []
    },
    {
      "cell_type": "code",
      "source": [
        "print(np.matmul(M,N))"
      ],
      "metadata": {
        "colab": {
          "base_uri": "https://localhost:8080/"
        },
        "id": "0jcHKQV85MTz",
        "outputId": "b207cda3-d28a-4d1c-a51e-5c21cedc58ea"
      },
      "execution_count": null,
      "outputs": [
        {
          "output_type": "stream",
          "name": "stdout",
          "text": [
            "[[1.00000000e+00 0.00000000e+00 0.00000000e+00]\n",
            " [0.00000000e+00 1.00000000e+00 1.38777878e-17]\n",
            " [0.00000000e+00 0.00000000e+00 1.00000000e+00]]\n"
          ]
        }
      ]
    }
  ]
}