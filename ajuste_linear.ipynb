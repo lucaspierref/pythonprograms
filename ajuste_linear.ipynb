{
  "nbformat": 4,
  "nbformat_minor": 0,
  "metadata": {
    "colab": {
      "provenance": [],
      "authorship_tag": "ABX9TyPwvePnKA2pX3CpPV4bPm8d",
      "include_colab_link": true
    },
    "kernelspec": {
      "name": "python3",
      "display_name": "Python 3"
    },
    "language_info": {
      "name": "python"
    }
  },
  "cells": [
    {
      "cell_type": "markdown",
      "metadata": {
        "id": "view-in-github",
        "colab_type": "text"
      },
      "source": [
        "<a href=\"https://colab.research.google.com/github/lucaspierref/pythonprograms/blob/main/ajuste_linear.ipynb\" target=\"_parent\"><img src=\"https://colab.research.google.com/assets/colab-badge.svg\" alt=\"Open In Colab\"/></a>"
      ]
    },
    {
      "cell_type": "code",
      "execution_count": null,
      "metadata": {
        "id": "UN6YDp8sy_nE"
      },
      "outputs": [],
      "source": [
        "## Ajuste de curvas"
      ]
    },
    {
      "cell_type": "markdown",
      "source": [
        "#**Ajuste de curvas**"
      ],
      "metadata": {
        "id": "MGKh6SBiz0Jw"
      }
    },
    {
      "cell_type": "code",
      "source": [
        "import matplotlib.pyplot as plt\n",
        "import numpy as np"
      ],
      "metadata": {
        "id": "td4SZhs4z2Lw"
      },
      "execution_count": 1,
      "outputs": []
    },
    {
      "cell_type": "code",
      "source": [
        "1 ## y = a * x + b"
      ],
      "metadata": {
        "colab": {
          "base_uri": "https://localhost:8080/"
        },
        "id": "p6quwjDqz-qC",
        "outputId": "178afd36-92be-43ac-8600-7ff74ceb9812"
      },
      "execution_count": 3,
      "outputs": [
        {
          "output_type": "execute_result",
          "data": {
            "text/plain": [
              "1"
            ]
          },
          "metadata": {},
          "execution_count": 3
        }
      ]
    },
    {
      "cell_type": "code",
      "source": [
        "def reta(x, a=1, b=0):\n",
        "  y = a * x + b\n",
        "  return y"
      ],
      "metadata": {
        "id": "skQLB85v0TIe"
      },
      "execution_count": 4,
      "outputs": []
    },
    {
      "cell_type": "code",
      "source": [
        "x = np.linspace(-2, 2, 20)"
      ],
      "metadata": {
        "id": "oo3Hfe2f0lCS"
      },
      "execution_count": 5,
      "outputs": []
    },
    {
      "cell_type": "code",
      "source": [
        "y = reta(x, 2, 3)\n",
        "N = len(y)\n",
        "dados = y + np.random.rand(N)*0.1"
      ],
      "metadata": {
        "id": "-ROl21c00tG3"
      },
      "execution_count": 6,
      "outputs": []
    },
    {
      "cell_type": "code",
      "source": [
        "plt.plot(x, y)\n",
        "plt.plot(x, dados, '*')\n",
        "plt.grid"
      ],
      "metadata": {
        "colab": {
          "base_uri": "https://localhost:8080/",
          "height": 283
        },
        "id": "Tj45DVbh04eG",
        "outputId": "c341f752-1bcf-45cf-835c-068d60852fd3"
      },
      "execution_count": 7,
      "outputs": [
        {
          "output_type": "execute_result",
          "data": {
            "text/plain": [
              "<function matplotlib.pyplot.grid(b=None, which='major', axis='both', **kwargs)>"
            ]
          },
          "metadata": {},
          "execution_count": 7
        },
        {
          "output_type": "display_data",
          "data": {
            "text/plain": [
              "<Figure size 432x288 with 1 Axes>"
            ],
            "image/png": "[encoded data removed]"
          },
          "metadata": {
            "needs_background": "light"
          }
        }
      ]
    },
    {
      "cell_type": "code",
      "source": [
        "z = np.polyfit(x, dados, deg=1) # cov # matriz de covariância"
      ],
      "metadata": {
        "id": "OdjNAZIR2cRJ"
      },
      "execution_count": 8,
      "outputs": []
    },
    {
      "cell_type": "code",
      "source": [
        "z"
      ],
      "metadata": {
        "colab": {
          "base_uri": "https://localhost:8080/"
        },
        "id": "MPOBRBeJ28H6",
        "outputId": "d823cd73-0786-41d6-88db-3c4c231e0b7c"
      },
      "execution_count": 9,
      "outputs": [
        {
          "output_type": "execute_result",
          "data": {
            "text/plain": [
              "array([1.99114515, 3.03923769])"
            ]
          },
          "metadata": {},
          "execution_count": 9
        }
      ]
    },
    {
      "cell_type": "code",
      "source": [],
      "metadata": {
        "id": "mBoY8Mri28PX"
      },
      "execution_count": null,
      "outputs": []
    }
  ]
}