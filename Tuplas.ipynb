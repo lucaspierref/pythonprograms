{
  "cells": [
    {
      "cell_type": "markdown",
      "metadata": {
        "id": "view-in-github",
        "colab_type": "text"
      },
      "source": [
        "<a href=\"https://colab.research.google.com/github/lucaspierref/pythonprograms/blob/main/Tuplas.ipynb\" target=\"_parent\"><img src=\"https://colab.research.google.com/assets/colab-badge.svg\" alt=\"Open In Colab\"/></a>"
      ]
    },
    {
      "cell_type": "markdown",
      "metadata": {
        "id": "M2sPsWjaB3qv"
      },
      "source": [
        "## Tuplas"
      ]
    },
    {
      "cell_type": "markdown",
      "metadata": {
        "id": "RHw-ol8rB7oK"
      },
      "source": [
        "### Criando uma tupla"
      ]
    },
    {
      "cell_type": "code",
      "execution_count": null,
      "metadata": {
        "id": "QWRuiNN4B_Hn"
      },
      "outputs": [],
      "source": [
        "# Listas:\n",
        "L = [0, 1, 2, 3, 4]\n",
        "L1 = [10]\n",
        "L0 = [] \n",
        "\n",
        "print(L, L1, L0)"
      ]
    },
    {
      "cell_type": "code",
      "execution_count": null,
      "metadata": {
        "id": "SO1okJDUCPgW"
      },
      "outputs": [],
      "source": [
        "# Tuplas:\n",
        "t = (0, 1, 2, 3, 4)\n",
        "\n",
        "#t1a = ('abc')    # isso é uma string\n",
        "#t1b = (10)       # isto é um inteiro...\n",
        "#t1  = (10,)      # isso é uma tupla...\n",
        "\n",
        "#print(t, type(t))\n",
        "#print(t1a, type(t1a))\n",
        "#print(t1b, type(t1b))\n",
        "#print(t1, type(t1))"
      ]
    },
    {
      "cell_type": "code",
      "execution_count": null,
      "metadata": {
        "id": "Yj_FlyurDYIg"
      },
      "outputs": [],
      "source": [
        "# tupla vazia\n",
        "t0a = ()\n",
        "t0b = tuple()\n",
        "\n",
        "print(t0a, type(t0a))\n",
        "print(t0b, type(t0b))"
      ]
    },
    {
      "cell_type": "markdown",
      "metadata": {
        "id": "F4y78liDEYTe"
      },
      "source": [
        "## Função tuple( )"
      ]
    },
    {
      "cell_type": "code",
      "execution_count": null,
      "metadata": {
        "id": "QK6UoHFWEcX0"
      },
      "outputs": [],
      "source": [
        "x = int(10.3) \n",
        "print(x, type(x))\n",
        "print()\n",
        "\n",
        "x = str(123.456e-8)\n",
        "print(x, type(x))\n",
        "print()\n",
        "\n",
        "x = list( 'abcd' )\n",
        "print(x, type(x) )\n",
        "print()\n",
        "\n"
      ]
    },
    {
      "cell_type": "code",
      "execution_count": null,
      "metadata": {
        "id": "MQ0XtYIUB-nQ"
      },
      "outputs": [],
      "source": [
        "# tuple( )\n",
        "x = tuple( [0, 1, 2, 3] )\n",
        "print(x, type(x) )\n",
        "print()\n",
        "\n",
        "x = tuple( 'xyzw' )\n",
        "print(x, type(x) )\n",
        "print()\n",
        "\n",
        "#x = tuple( 10 )   # ERROR!\n",
        "#print(x, type(x) )\n",
        "#print()"
      ]
    },
    {
      "cell_type": "markdown",
      "metadata": {
        "id": "aKKvD0jzIAeQ"
      },
      "source": [
        "## Acessando os elementos de uma tupla"
      ]
    },
    {
      "cell_type": "code",
      "execution_count": null,
      "metadata": {
        "id": "Ufx2l-t9IEW7"
      },
      "outputs": [],
      "source": [
        "t = (0, 1, 2, 3, 4, 5, 6, 7, 8, 9)\n",
        "\n",
        "print( t[2] )\n",
        "print( t[-1] )    # último elemento\n",
        "print( t[-2] )    # penúltimo\n",
        "print( t[-3]) "
      ]
    },
    {
      "cell_type": "markdown",
      "metadata": {
        "id": "ZUAMDEX4IlL2"
      },
      "source": [
        "## Fatiamento de tuplas"
      ]
    },
    {
      "cell_type": "code",
      "execution_count": null,
      "metadata": {
        "id": "zRu7EFBWInyL"
      },
      "outputs": [],
      "source": [
        "t = (0, 1, 2, 3, 4, 5, 6, 7, 8, 9)\n",
        "#   (0, 1, 2, |3, 4, 5, 6, |7, 8, 9)\n",
        "\n",
        "print( t[3 : 7] )\n",
        "print( t[  : 7] )\n",
        "print( t[3 :  ] )\n",
        "\n",
        "print( t[3 : -3] )\n"
      ]
    },
    {
      "cell_type": "markdown",
      "metadata": {
        "id": "-EDCSoT8MgQo"
      },
      "source": [
        "## Extração alternada de elementos de uma tupla"
      ]
    },
    {
      "cell_type": "code",
      "execution_count": null,
      "metadata": {
        "id": "TNfspNblMk63"
      },
      "outputs": [],
      "source": [
        "t = (0, 1, 2, 3, 4, 5, 6, 7, 8, 9)\n",
        "\n",
        "print( t[0 :  : 2] )\n",
        "print( t[1 :  : 2] )"
      ]
    },
    {
      "cell_type": "markdown",
      "metadata": {
        "id": "j07uxQI_JqGS"
      },
      "source": [
        "## Aninhamento de tuplas e/ou listas"
      ]
    },
    {
      "cell_type": "code",
      "execution_count": null,
      "metadata": {
        "id": "hJoMp4F3JvD_"
      },
      "outputs": [],
      "source": [
        "vogais = tuple( 'aeiou' )\n",
        "consoantes = tuple( 'bcdfghjklmnpqrstvxwz' )\n",
        "letras = (vogais, consoantes)\n",
        "\n",
        "print(vogais, consoantes)\n",
        "print(letras)\n",
        "print()\n",
        "\n",
        "print(letras[0])\n",
        "print(letras[1])\n",
        "print()\n",
        "\n",
        "print( letras[0][2]   )\n",
        "print( letras[1][10]   )"
      ]
    },
    {
      "cell_type": "code",
      "execution_count": null,
      "metadata": {
        "id": "DuwM0s-dKwGJ"
      },
      "outputs": [],
      "source": [
        "t = (1, 2, (3, (4, 5, (6, 7, 8) ), 9), 10)\n",
        "#   0      1   2      3    (niveis)\n",
        "\n",
        "print( t[2] )\n",
        "print()\n",
        "\n",
        "print( t[2][1][2] )\n",
        "print()\n",
        "\n",
        "print( t[2][1][2][1] )\n",
        "print()"
      ]
    },
    {
      "cell_type": "markdown",
      "metadata": {
        "id": "jPVzSIjvOvxK"
      },
      "source": [
        "## Concatenação de tuplas"
      ]
    },
    {
      "cell_type": "code",
      "execution_count": null,
      "metadata": {
        "id": "ay8Aq_fXOzWv"
      },
      "outputs": [],
      "source": [
        "tupla1 = (1, 2, 3)\n",
        "tupla2 = (4, 5, 6)\n",
        "\n",
        "tupla3 = tupla1 + tupla2\n",
        "\n",
        "print(tupla1, tupla2)\n",
        "print(tupla3)\n",
        "print()"
      ]
    },
    {
      "cell_type": "code",
      "execution_count": null,
      "metadata": {
        "id": "_Iiib8enPJyQ"
      },
      "outputs": [],
      "source": [
        "# Exemplo 2:\n",
        "\n",
        "cores = ('preto', 'marrom', 'vermelho', 'laranja', 'verde', 'azul', 'violeta')\n",
        "print(cores)\n",
        "\n",
        "cores2 = cores[-2 : ] + (\"branco\", ) + cores[0: 2]\n",
        "print(cores2)\n"
      ]
    },
    {
      "cell_type": "markdown",
      "metadata": {
        "id": "4V91hxmpQUuv"
      },
      "source": [
        "## Replicação de tuplas"
      ]
    },
    {
      "cell_type": "code",
      "execution_count": null,
      "metadata": {
        "id": "O-adxGa2QaR7"
      },
      "outputs": [],
      "source": [
        "t = (0, 1)\n",
        "t2 = 10 * t\n",
        "\n",
        "print(t)\n",
        "print(t2)"
      ]
    },
    {
      "cell_type": "markdown",
      "metadata": {
        "id": "Gg9J5tOgRhx8"
      },
      "source": [
        "## Operação de Associação\n",
        "* in\n",
        "* not in\n",
        "[link text](https://)"
      ]
    },
    {
      "cell_type": "code",
      "execution_count": null,
      "metadata": {
        "id": "WYJoOZn3Rpz6"
      },
      "outputs": [],
      "source": [
        "t = (1, 2, 3)\n",
        "\n",
        "print( 2 in t )\n",
        "print( 5 in t )\n",
        "print()\n",
        "\n",
        "print( 2 not in t )\n",
        "print( 5 not in t )"
      ]
    },
    {
      "cell_type": "markdown",
      "metadata": {
        "id": "wr1Yu5eecKwL"
      },
      "source": [
        "## Comparação de tuplas"
      ]
    },
    {
      "cell_type": "code",
      "execution_count": null,
      "metadata": {
        "id": "SXIjm64ecODe"
      },
      "outputs": [],
      "source": [
        "# Comparação de strings:\n",
        "\n",
        "stra = \"Carta\"\n",
        "strb = \"Barco\"\n",
        "strc = \"Carla\"\n",
        "\n",
        "print( stra == strb )\n",
        "print( stra != strb )\n",
        "print()\n",
        "\n",
        "print( stra < strb )\n",
        "print( stra > strb )\n",
        "print()\n",
        "\n",
        "print( stra < strb )\n",
        "print( stra > strb )"
      ]
    },
    {
      "cell_type": "code",
      "execution_count": null,
      "metadata": {
        "id": "LpWM43o1dxQa"
      },
      "outputs": [],
      "source": [
        "# Comparação de tuplas:\n",
        "t = (1, 2, 3)\n",
        "u = (4, 5, 6)\n",
        "\n",
        "# igualdade / diferença:\n",
        "print( t == u )\n",
        "print( t != u )\n",
        "print()\n",
        "\n",
        "# <, <= \n",
        "print( t < u )\n",
        "print( t <= u )\n",
        "print( u < t )\n",
        "print()\n",
        "\n",
        "# >, >=\n",
        "print( t < u )\n",
        "print( t <= u )\n",
        "\n"
      ]
    },
    {
      "cell_type": "markdown",
      "metadata": {
        "id": "XvrvrkpMe_GP"
      },
      "source": [
        "## Métodos de tuplas"
      ]
    },
    {
      "cell_type": "code",
      "execution_count": null,
      "metadata": {
        "id": "gT4bdVJ0fOy4"
      },
      "outputs": [],
      "source": [
        "# t.count(x) \n",
        "# retorna o número de ocorrências do elemento x na tupla t\n",
        "\n",
        "t = 3 * tuple( 'abcdefg')\n",
        "print(t)\n",
        "print( t.count('a') )\n",
        "print()\n",
        "\n",
        "print( t.count('z') )"
      ]
    },
    {
      "cell_type": "code",
      "execution_count": null,
      "metadata": {
        "id": "qqBp6SQIfyBL"
      },
      "outputs": [],
      "source": [
        "# t.index(x)\n",
        "# t.index(x, start, end)\n",
        "# retorna o índice da primeira ocorrência do elemento x na tupla t\n",
        "\n",
        "t = 3 * tuple( 'abcdefg')\n",
        "print( t.index('b') )\n",
        "\n",
        "print( t.index('b', 4) )\n",
        "\n",
        "# print( t.index('z') )   se x não existe --> exceção"
      ]
    },
    {
      "cell_type": "markdown",
      "metadata": {
        "id": "IwrP00BCog3V"
      },
      "source": [
        "## Tuplas são IMUTÁVEIS."
      ]
    },
    {
      "cell_type": "code",
      "execution_count": null,
      "metadata": {
        "id": "Lo0j8EFfqGHw"
      },
      "outputs": [],
      "source": [
        "# Função id(x):\n",
        "a = 10\n",
        "print(a, id(a))\n",
        "\n",
        "a = 1000\n",
        "print(a, id(a))"
      ]
    },
    {
      "cell_type": "code",
      "execution_count": null,
      "metadata": {
        "id": "uQ7kqbQVokYj"
      },
      "outputs": [],
      "source": [
        "# Exemplo 1:\n",
        "L = [0, 1, 2, 3, 4]\n",
        "print(L, id(L) )\n",
        "print(id(L[0]), id(L[1]), id(L[2]), id(L[3]), id(L[4]) )\n",
        "print()\n",
        "\n",
        "L[2] = 20\n",
        "print(L, id(L) )\n",
        "print(id(L[0]), id(L[1]), id(L[2]), id(L[3]), id(L[4]) )\n",
        "print()\n"
      ]
    },
    {
      "cell_type": "code",
      "execution_count": null,
      "metadata": {
        "id": "ZFcSwaFao0SU"
      },
      "outputs": [],
      "source": [
        "# Exemplo 2:\n",
        "t = (0, 1, 2, 3, 4)\n",
        "print(t)\n",
        "\n",
        "t[2] = 20   # NÃO É PERMITIDO.\n",
        "print(t)"
      ]
    },
    {
      "cell_type": "code",
      "execution_count": null,
      "metadata": {
        "id": "q5SjYszzpD1G"
      },
      "outputs": [],
      "source": [
        "# Exemplo 3:\n",
        "x = 2\n",
        "lista = [0, 1, x, 3, 4]\n",
        "print(x, id(x))\n",
        "\n",
        "print(lista, id(lista), id( lista[2] )  )\n",
        "\n",
        "print()\n",
        "\n",
        "x = 20\n",
        "print(x, id(x))\n",
        "print(lista, id(lista), id(lista[2]) )"
      ]
    },
    {
      "cell_type": "code",
      "execution_count": null,
      "metadata": {
        "id": "Tge-NJ-OpgMa"
      },
      "outputs": [],
      "source": [
        "# Exemplo 4:\n",
        "lista = [3, 4, 5]\n",
        "\n",
        "t = (0, 1, 2, lista, 6, 7, 8)\n",
        "\n",
        "print(lista, id(lista) )\n",
        "print(t, id(t), id(t[3]), id(t[3][1]) )\n",
        "print()\n",
        "\n",
        "t[3][1] = 4000\n",
        "\n",
        "print(lista, id(lista) )\n",
        "print(t, id(t), id(t[3]), id(t[3][1]) )\n",
        "print()\n"
      ]
    },
    {
      "cell_type": "markdown",
      "metadata": {
        "id": "Gn1Y2Q8huGf2"
      },
      "source": [
        "## Omissão de perêntesis e desempacotamento de tuplas\n"
      ]
    },
    {
      "cell_type": "code",
      "execution_count": null,
      "metadata": {
        "id": "2YkksnIIuM5J"
      },
      "outputs": [],
      "source": [
        "# omissão de parêntesis\n",
        "a = 1,2\n",
        "print(a, type(a)) \n",
        "print()\n",
        "\n",
        "b = 1,\n",
        "print(b, type(b))\n",
        "print()\n",
        "\n",
        "c = 1, 2, 3, 4\n",
        "print(c, type(c))\n",
        "\n",
        "\n",
        "\n"
      ]
    },
    {
      "cell_type": "code",
      "execution_count": null,
      "metadata": {
        "id": "WC4TLSQCvJRY"
      },
      "outputs": [],
      "source": [
        "# omissão de parêntesis em funções\n",
        "def f(x):\n",
        "  #return (x, x**2, x**3, x**4) \n",
        "  return x, x**2, x**3, x**4\n",
        "\n",
        "x = 3\n",
        "y = f(x)\n",
        "print(y, type(y))"
      ]
    },
    {
      "cell_type": "code",
      "execution_count": null,
      "metadata": {
        "id": "-B4Dd5ycwifV"
      },
      "outputs": [],
      "source": [
        "# Desempacotamento de tuplas\n",
        "\n",
        "a = 1,2\n",
        "(b, c) = (1, 2)\n",
        "print(b, c)\n",
        "print()\n",
        "\n",
        "(x, y) = 1, 2\n",
        "print(x, y)\n",
        "\n",
        "z, w = 1, 2\n",
        "print(z, w)"
      ]
    },
    {
      "cell_type": "code",
      "execution_count": null,
      "metadata": {
        "id": "0si8XjNaxVml"
      },
      "outputs": [],
      "source": [
        "# Desempacotamento:\n",
        "\n",
        "coord = ( (1, 2), (1, 7), (-2, 5), (-3, -8), (-1, 9) )\n",
        "\n",
        "for elemento in coord:\n",
        "  print(elemento)\n",
        "\n",
        "print()\n",
        "\n",
        "for x, y in coord:\n",
        "  print(\"x=\", x, \" y=\", y)"
      ]
    },
    {
      "cell_type": "code",
      "execution_count": null,
      "metadata": {
        "id": "bo1TTLaVyGhm"
      },
      "outputs": [],
      "source": [
        "# del\n",
        "(a, b) = 1, 2\n",
        "del (a, b)\n",
        "\n",
        "(c, d) = (1, 2)\n",
        "del c, d"
      ]
    },
    {
      "cell_type": "markdown",
      "metadata": {
        "id": "fqB0tBTzy8mG"
      },
      "source": [
        "## Número de elementos de uma tupla"
      ]
    },
    {
      "cell_type": "code",
      "execution_count": null,
      "metadata": {
        "id": "FNqZa5FLzBiw"
      },
      "outputs": [],
      "source": [
        "t = (0, 1, 2, 3, 4)\n",
        "print( len(t) )\n",
        "\n",
        "print( len( tuple() ) )"
      ]
    }
  ],
  "metadata": {
    "colab": {
      "provenance": [],
      "include_colab_link": true
    },
    "kernelspec": {
      "display_name": "Python 3 (ipykernel)",
      "language": "python",
      "name": "python3"
    },
    "language_info": {
      "codemirror_mode": {
        "name": "ipython",
        "version": 3
      },
      "file_extension": ".py",
      "mimetype": "text/x-python",
      "name": "python",
      "nbconvert_exporter": "python",
      "pygments_lexer": "ipython3",
      "version": "3.9.7"
    }
  },
  "nbformat": 4,
  "nbformat_minor": 0
}