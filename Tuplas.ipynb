{
  "cells": [
    {
      "cell_type": "markdown",
      "metadata": {
        "id": "view-in-github",
        "colab_type": "text"
      },
      "source": [
        "<a href=\"https://colab.research.google.com/github/lucaspierref/pythonprograms/blob/main/Tuplas.ipynb\" target=\"_parent\"><img src=\"https://colab.research.google.com/assets/colab-badge.svg\" alt=\"Open In Colab\"/></a>"
      ]
    },
    {
      "cell_type": "markdown",
      "metadata": {
        "id": "M2sPsWjaB3qv"
      },
      "source": [
        "## Tuplas"
      ]
    },
    {
      "cell_type": "markdown",
      "metadata": {
        "id": "RHw-ol8rB7oK"
      },
      "source": [
        "### Criando uma tupla"
      ]
    },
    {
      "cell_type": "code",
      "execution_count": null,
      "metadata": {
        "colab": {
          "base_uri": "https://localhost:8080/",
          "height": 34
        },
        "id": "QWRuiNN4B_Hn",
        "outputId": "16281805-1ef4-49bd-dde9-e36fa609e923"
      },
      "outputs": [
        {
          "name": "stdout",
          "output_type": "stream",
          "text": [
            "[0, 1, 2, 3, 4] [10] []\n"
          ]
        }
      ],
      "source": [
        "# Listas:\n",
        "L = [0, 1, 2, 3, 4]\n",
        "L1 = [10]\n",
        "L0 = [] \n",
        "\n",
        "print(L, L1, L0)"
      ]
    },
    {
      "cell_type": "code",
      "execution_count": null,
      "metadata": {
        "colab": {
          "base_uri": "https://localhost:8080/",
          "height": 86
        },
        "id": "SO1okJDUCPgW",
        "outputId": "e163e8c3-dbaa-4e59-dcc2-e722770d60c3"
      },
      "outputs": [
        {
          "name": "stdout",
          "output_type": "stream",
          "text": [
            "(0, 1, 2, 3, 4) <class 'tuple'>\n",
            "abc <class 'str'>\n",
            "10 <class 'int'>\n",
            "(10,) <class 'tuple'>\n"
          ]
        }
      ],
      "source": [
        "# Tuplas:\n",
        "t = (0, 1, 2, 3, 4)\n",
        "\n",
        "t1a = ('abc')    # isso é uma string\n",
        "t1b = (10)       # isto é um inteiro...\n",
        "t1  = (10,)      # isso é uma tupla...\n",
        "\n",
        "print(t, type(t))\n",
        "print(t1a, type(t1a))\n",
        "print(t1b, type(t1b))\n",
        "print(t1, type(t1))\n",
        "\n",
        "\n"
      ]
    },
    {
      "cell_type": "code",
      "execution_count": null,
      "metadata": {
        "colab": {
          "base_uri": "https://localhost:8080/",
          "height": 52
        },
        "id": "Yj_FlyurDYIg",
        "outputId": "bccbca54-766d-46fe-dcef-851e6df7b250"
      },
      "outputs": [
        {
          "name": "stdout",
          "output_type": "stream",
          "text": [
            "() <class 'tuple'>\n",
            "() <class 'tuple'>\n"
          ]
        }
      ],
      "source": [
        "# tupla vazia\n",
        "t0a = ()\n",
        "t0b = tuple()\n",
        "\n",
        "print(t0a, type(t0a))\n",
        "print(t0b, type(t0b))"
      ]
    },
    {
      "cell_type": "markdown",
      "metadata": {
        "id": "F4y78liDEYTe"
      },
      "source": [
        "## Função tuple( )"
      ]
    },
    {
      "cell_type": "code",
      "execution_count": null,
      "metadata": {
        "colab": {
          "base_uri": "https://localhost:8080/",
          "height": 191
        },
        "id": "QK6UoHFWEcX0",
        "outputId": "be00095c-eb24-417d-cc7a-4d47c1fabace"
      },
      "outputs": [
        {
          "name": "stdout",
          "output_type": "stream",
          "text": [
            "10 <class 'int'>\n",
            "\n",
            "1.23456e-06 <class 'str'>\n",
            "\n",
            "['a', 'b', 'c', 'd'] <class 'list'>\n",
            "\n"
          ]
        }
      ],
      "source": [
        "x = int(10.3) \n",
        "print(x, type(x))\n",
        "print()\n",
        "\n",
        "x = str(123.456e-8)\n",
        "print(x, type(x))\n",
        "print()\n",
        "\n",
        "x = list( 'abcd' )\n",
        "print(x, type(x) )\n",
        "print()\n",
        "\n"
      ]
    },
    {
      "cell_type": "code",
      "execution_count": null,
      "metadata": {
        "id": "yN4xFWRBDnSg",
        "outputId": "84c52b5c-aa41-4d86-8075-1cad2c01fa51"
      },
      "outputs": [
        {
          "name": "stdout",
          "output_type": "stream",
          "text": [
            "(0, 1, 2, 3) <class 'tuple'>\n",
            "\n",
            "('x', 'y', 'z', 'w') <class 'tuple'>\n",
            "\n"
          ]
        },
        {
          "ename": "TypeError",
          "evalue": "'int' object is not iterable",
          "output_type": "error",
          "traceback": [
            "\u001b[0;31m---------------------------------------------------------------------------\u001b[0m",
            "\u001b[0;31mTypeError\u001b[0m                                 Traceback (most recent call last)",
            "\u001b[0;32m<ipython-input-14-c70690afc8f3>\u001b[0m in \u001b[0;36m<module>\u001b[0;34m\u001b[0m\n\u001b[1;32m      8\u001b[0m \u001b[0mprint\u001b[0m\u001b[0;34m(\u001b[0m\u001b[0;34m)\u001b[0m\u001b[0;34m\u001b[0m\u001b[0;34m\u001b[0m\u001b[0m\n\u001b[1;32m      9\u001b[0m \u001b[0;34m\u001b[0m\u001b[0m\n\u001b[0;32m---> 10\u001b[0;31m \u001b[0mx\u001b[0m \u001b[0;34m=\u001b[0m \u001b[0mtuple\u001b[0m\u001b[0;34m(\u001b[0m \u001b[0;36m10\u001b[0m \u001b[0;34m)\u001b[0m   \u001b[0;31m# ERROR!\u001b[0m\u001b[0;34m\u001b[0m\u001b[0;34m\u001b[0m\u001b[0m\n\u001b[0m\u001b[1;32m     11\u001b[0m \u001b[0mprint\u001b[0m\u001b[0;34m(\u001b[0m\u001b[0mx\u001b[0m\u001b[0;34m,\u001b[0m \u001b[0mtype\u001b[0m\u001b[0;34m(\u001b[0m\u001b[0mx\u001b[0m\u001b[0;34m)\u001b[0m \u001b[0;34m)\u001b[0m\u001b[0;34m\u001b[0m\u001b[0;34m\u001b[0m\u001b[0m\n\u001b[1;32m     12\u001b[0m \u001b[0mprint\u001b[0m\u001b[0;34m(\u001b[0m\u001b[0;34m)\u001b[0m\u001b[0;34m\u001b[0m\u001b[0;34m\u001b[0m\u001b[0m\n",
            "\u001b[0;31mTypeError\u001b[0m: 'int' object is not iterable"
          ]
        }
      ],
      "source": [
        "# tuple( )\n",
        "x = tuple( [0, 1, 2, 3] ) # Isto é uma tabela\n",
        "print(x, type(x) )\n",
        "print()\n",
        "\n",
        "x = tuple( 'xyzw' ) # Isto é uma string\n",
        "print(x, type(x) )\n",
        "print()\n",
        "\n",
        "x = tuple( 10 )   # ERROR!\n",
        "print(x, type(x) )\n",
        "print()"
      ]
    },
    {
      "cell_type": "markdown",
      "metadata": {
        "id": "aKKvD0jzIAeQ"
      },
      "source": [
        "## Acessando os elementos de uma tupla"
      ]
    },
    {
      "cell_type": "code",
      "execution_count": null,
      "metadata": {
        "colab": {
          "base_uri": "https://localhost:8080/",
          "height": 86
        },
        "id": "Ufx2l-t9IEW7",
        "outputId": "8992371a-fdcc-4ea7-f429-8955bded2125"
      },
      "outputs": [
        {
          "name": "stdout",
          "output_type": "stream",
          "text": [
            "2\n",
            "9\n",
            "8\n",
            "7\n"
          ]
        }
      ],
      "source": [
        "t = (0, 1, 2, 3, 4, 5, 6, 7, 8, 9)\n",
        "\n",
        "print( t[2] )\n",
        "print( t[-1] )    # último elemento\n",
        "print( t[-2] )    # penúltimo\n",
        "print( t[-3]) "
      ]
    },
    {
      "cell_type": "markdown",
      "metadata": {
        "id": "ZUAMDEX4IlL2"
      },
      "source": [
        "## Fatiamento de tuplas"
      ]
    },
    {
      "cell_type": "code",
      "execution_count": null,
      "metadata": {
        "colab": {
          "base_uri": "https://localhost:8080/",
          "height": 86
        },
        "id": "zRu7EFBWInyL",
        "outputId": "c2c8bca5-ec3b-465b-d9c0-c4a58114e1b1"
      },
      "outputs": [
        {
          "name": "stdout",
          "output_type": "stream",
          "text": [
            "(3, 4, 5, 6)\n",
            "(0, 1, 2, 3, 4, 5, 6)\n",
            "(3, 4, 5, 6, 7, 8, 9)\n",
            "(3, 4, 5, 6)\n"
          ]
        }
      ],
      "source": [
        "t = (0, 1, 2, 3, 4, 5, 6, 7, 8, 9)\n",
        "#   (0, 1, 2, |3, 4, 5, 6, |7, 8, 9)\n",
        "\n",
        "print( t[3 : 7] )\n",
        "print( t[  : 7] )\n",
        "print( t[3 :  ] )\n",
        "print( t[3 : -3] )\n"
      ]
    },
    {
      "cell_type": "markdown",
      "metadata": {
        "id": "-EDCSoT8MgQo"
      },
      "source": [
        "## Extração alternada de elementos de uma tupla"
      ]
    },
    {
      "cell_type": "code",
      "execution_count": null,
      "metadata": {
        "colab": {
          "base_uri": "https://localhost:8080/",
          "height": 52
        },
        "id": "TNfspNblMk63",
        "outputId": "bbdd19ce-3c0b-4e58-d726-78375ae18c77"
      },
      "outputs": [
        {
          "name": "stdout",
          "output_type": "stream",
          "text": [
            "(0, 2, 4, 6, 8)\n",
            "(1, 3, 5, 7, 9)\n"
          ]
        }
      ],
      "source": [
        "t = (0, 1, 2, 3, 4, 5, 6, 7, 8, 9)\n",
        "\n",
        "print( t[0 :  : 2] )\n",
        "print( t[1 :  : 2] )\n"
      ]
    },
    {
      "cell_type": "markdown",
      "metadata": {
        "id": "j07uxQI_JqGS"
      },
      "source": [
        "## Aninhamento de tuplas e/ou listas"
      ]
    },
    {
      "cell_type": "code",
      "execution_count": null,
      "metadata": {
        "colab": {
          "base_uri": "https://localhost:8080/",
          "height": 156
        },
        "id": "hJoMp4F3JvD_",
        "outputId": "1bf43a27-0f3a-4747-eb50-6fa33f773fe4"
      },
      "outputs": [
        {
          "name": "stdout",
          "output_type": "stream",
          "text": [
            "('a', 'e', 'i', 'o', 'u') ('b', 'c', 'd', 'f', 'g', 'h', 'j', 'k', 'l', 'm', 'n', 'p', 'q', 'r', 's', 't', 'v', 'x', 'w', 'z')\n",
            "(('a', 'e', 'i', 'o', 'u'), ('b', 'c', 'd', 'f', 'g', 'h', 'j', 'k', 'l', 'm', 'n', 'p', 'q', 'r', 's', 't', 'v', 'x', 'w', 'z'))\n",
            "\n",
            "('a', 'e', 'i', 'o', 'u')\n",
            "('b', 'c', 'd', 'f', 'g', 'h', 'j', 'k', 'l', 'm', 'n', 'p', 'q', 'r', 's', 't', 'v', 'x', 'w', 'z')\n",
            "\n",
            "i\n",
            "n\n"
          ]
        }
      ],
      "source": [
        "vogais = tuple( 'aeiou' )\n",
        "consoantes = tuple( 'bcdfghjklmnpqrstvxwz' )\n",
        "letras = (vogais, consoantes)\n",
        "\n",
        "print(vogais, consoantes)\n",
        "print(letras)\n",
        "print()\n",
        "\n",
        "print(letras[0])\n",
        "print(letras[1])\n",
        "print()\n",
        "\n",
        "print( letras[0][2]   )\n",
        "print( letras[1][10]   )\n"
      ]
    },
    {
      "cell_type": "code",
      "execution_count": null,
      "metadata": {
        "colab": {
          "base_uri": "https://localhost:8080/",
          "height": 121
        },
        "id": "DuwM0s-dKwGJ",
        "outputId": "eabd7696-a3c7-4d5e-dd91-3d4221d703f7"
      },
      "outputs": [
        {
          "name": "stdout",
          "output_type": "stream",
          "text": [
            "(3, (4, 5, (6, 7, 8)), 9)\n",
            "\n",
            "(6, 7, 8)\n",
            "\n",
            "7\n",
            "\n"
          ]
        }
      ],
      "source": [
        "t = (1, 2, (3, (4, 5, (6, 7, 8) ), 9), 10)\n",
        "#   0      1   2      3    (niveis)\n",
        "\n",
        "print( t[2] )\n",
        "print()\n",
        "\n",
        "print( t[2][1][2] )\n",
        "print()\n",
        "\n",
        "print( t[2][1][2][1] )\n",
        "print()"
      ]
    },
    {
      "cell_type": "markdown",
      "metadata": {
        "id": "jPVzSIjvOvxK"
      },
      "source": [
        "## Concatenação de tuplas"
      ]
    },
    {
      "cell_type": "code",
      "execution_count": null,
      "metadata": {
        "colab": {
          "base_uri": "https://localhost:8080/",
          "height": 69
        },
        "id": "ay8Aq_fXOzWv",
        "outputId": "e595f205-0081-42fa-dfad-d27e1ce2fdcc"
      },
      "outputs": [
        {
          "name": "stdout",
          "output_type": "stream",
          "text": [
            "(1, 2, 3) (4, 5, 6)\n",
            "(1, 2, 3, 4, 5, 6)\n",
            "\n"
          ]
        }
      ],
      "source": [
        "tupla1 = (1, 2, 3)\n",
        "tupla2 = (4, 5, 6)\n",
        "\n",
        "tupla3 = tupla1 + tupla2 # Operador lógico concatena as duas duplas\n",
        "\n",
        "print(tupla1, tupla2)\n",
        "print(tupla3)\n",
        "print()\n"
      ]
    },
    {
      "cell_type": "code",
      "execution_count": null,
      "metadata": {
        "colab": {
          "base_uri": "https://localhost:8080/",
          "height": 52
        },
        "id": "_Iiib8enPJyQ",
        "outputId": "e7d3d27c-9f5e-45c9-d7e4-3ea8d707b6ef"
      },
      "outputs": [
        {
          "name": "stdout",
          "output_type": "stream",
          "text": [
            "('preto', 'marrom', 'vermelho', 'laranja', 'verde', 'azul', 'violeta')\n",
            "('azul', 'violeta', 'branco', 'preto', 'marrom')\n"
          ]
        }
      ],
      "source": [
        "# Exemplo 2:\n",
        "\n",
        "cores = ('preto', 'marrom', 'vermelho', 'laranja', 'verde', 'azul', 'violeta')\n",
        "print(cores)\n",
        "\n",
        "cores2 = cores[-2 : ] + (\"branco\", ) + cores[0: 2]\n",
        "print(cores2)\n"
      ]
    },
    {
      "cell_type": "markdown",
      "metadata": {
        "id": "4V91hxmpQUuv"
      },
      "source": [
        "## Replicação de tuplas"
      ]
    },
    {
      "cell_type": "code",
      "execution_count": null,
      "metadata": {
        "colab": {
          "base_uri": "https://localhost:8080/",
          "height": 52
        },
        "id": "O-adxGa2QaR7",
        "outputId": "cda6b7d1-eed5-455a-96b2-647a4a72ef06"
      },
      "outputs": [
        {
          "name": "stdout",
          "output_type": "stream",
          "text": [
            "(0, 1)\n",
            "(0, 1, 0, 1, 0, 1, 0, 1, 0, 1, 0, 1, 0, 1, 0, 1, 0, 1, 0, 1)\n"
          ]
        }
      ],
      "source": [
        "t = (0, 1)\n",
        "t2 = 10 * t\n",
        "\n",
        "print(t)\n",
        "print(t2)\n"
      ]
    },
    {
      "cell_type": "markdown",
      "metadata": {
        "id": "Gg9J5tOgRhx8"
      },
      "source": [
        "## Operação de Associação\n",
        "* in\n",
        "* not in\n",
        "[link text](https://)"
      ]
    },
    {
      "cell_type": "code",
      "execution_count": null,
      "metadata": {
        "colab": {
          "base_uri": "https://localhost:8080/",
          "height": 104
        },
        "id": "WYJoOZn3Rpz6",
        "outputId": "e64bdd5d-4175-48d5-c7d0-3dc02a6ba2aa"
      },
      "outputs": [
        {
          "name": "stdout",
          "output_type": "stream",
          "text": [
            "True\n",
            "False\n",
            "\n",
            "False\n",
            "True\n"
          ]
        }
      ],
      "source": [
        "t = (1, 2, 3)\n",
        "\n",
        "print( 2 in t )\n",
        "print( 5 in t )\n",
        "print()\n",
        "\n",
        "print( 2 not in t )\n",
        "print( 5 not in t )\n"
      ]
    },
    {
      "cell_type": "markdown",
      "metadata": {
        "id": "wr1Yu5eecKwL"
      },
      "source": [
        "## Comparação de tuplas"
      ]
    },
    {
      "cell_type": "code",
      "execution_count": null,
      "metadata": {
        "colab": {
          "base_uri": "https://localhost:8080/",
          "height": 156
        },
        "id": "SXIjm64ecODe",
        "outputId": "8995c761-46e1-43b8-cf48-ee4617ced858"
      },
      "outputs": [
        {
          "name": "stdout",
          "output_type": "stream",
          "text": [
            "False\n",
            "True\n",
            "\n",
            "False\n",
            "True\n",
            "\n",
            "False\n",
            "True\n"
          ]
        }
      ],
      "source": [
        "# Comparação de strings:\n",
        "\n",
        "stra = \"Carta\"\n",
        "strb = \"Barco\"\n",
        "strc = \"Carla\"\n",
        "\n",
        "print( stra == strb ) #Igual\n",
        "print( stra != strb ) #Diferente\n",
        "print()\n",
        "\n",
        "print( stra < strb ) #Menor\n",
        "print( stra > strb ) #Maior\n",
        "print()\n",
        "\n",
        "print( stra < strb )\n",
        "print( stra > strb )"
      ]
    },
    {
      "cell_type": "code",
      "execution_count": null,
      "metadata": {
        "colab": {
          "base_uri": "https://localhost:8080/",
          "height": 173
        },
        "id": "LpWM43o1dxQa",
        "outputId": "a192d496-7d3c-4b04-f526-1d446cd8b2d7"
      },
      "outputs": [
        {
          "name": "stdout",
          "output_type": "stream",
          "text": [
            "False\n",
            "True\n",
            "\n",
            "True\n",
            "True\n",
            "False\n",
            "\n",
            "True\n",
            "True\n"
          ]
        }
      ],
      "source": [
        "# Comparação de tuplas:\n",
        "t = (1, 2, 3)\n",
        "u = (4, 5, 6)\n",
        "\n",
        "# igualdade / diferença:\n",
        "print( t == u )\n",
        "print( t != u )\n",
        "print()\n",
        "\n",
        "# <, <= \n",
        "print( t < u )\n",
        "print( t <= u )\n",
        "print( u < t )\n",
        "print()\n",
        "\n",
        "# >, >=\n",
        "print( t < u )\n",
        "print( t <= u )\n",
        "\n"
      ]
    },
    {
      "cell_type": "markdown",
      "metadata": {
        "id": "XvrvrkpMe_GP"
      },
      "source": [
        "## Métodos de tuplas"
      ]
    },
    {
      "cell_type": "code",
      "execution_count": null,
      "metadata": {
        "colab": {
          "base_uri": "https://localhost:8080/",
          "height": 86
        },
        "id": "gT4bdVJ0fOy4",
        "outputId": "6a39b89e-4fa2-45fe-c885-5ce5388d39dd"
      },
      "outputs": [
        {
          "name": "stdout",
          "output_type": "stream",
          "text": [
            "('a', 'b', 'c', 'd', 'e', 'f', 'g', 'a', 'b', 'c', 'd', 'e', 'f', 'g', 'a', 'b', 'c', 'd', 'e', 'f', 'g')\n",
            "3\n",
            "\n",
            "0\n"
          ]
        }
      ],
      "source": [
        "# t.count(x) \n",
        "# retorna o número de ocorrências do elemento x na tupla t\n",
        "\n",
        "t = 3 * tuple( 'abcdefg')\n",
        "print(t)\n",
        "print( t.count('a') )\n",
        "print()\n",
        "\n",
        "print( t.count('z') )"
      ]
    },
    {
      "cell_type": "code",
      "execution_count": null,
      "metadata": {
        "colab": {
          "base_uri": "https://localhost:8080/",
          "height": 52
        },
        "id": "qqBp6SQIfyBL",
        "outputId": "c7dd3945-888e-4fda-adaf-40e70d404664"
      },
      "outputs": [
        {
          "name": "stdout",
          "output_type": "stream",
          "text": [
            "1\n",
            "8\n"
          ]
        }
      ],
      "source": [
        "# t.index(x)\n",
        "# t.index(x, start, end)\n",
        "# retorna o índice da primeira ocorrência do elemento x na tupla t\n",
        "\n",
        "t = 3 * tuple( 'abcdefg')\n",
        "print( t.index('b') )\n",
        "\n",
        "print( t.index('b', 4) )\n",
        "\n",
        "# print( t.index('z') )   se x não existe --> exceção"
      ]
    },
    {
      "cell_type": "markdown",
      "metadata": {
        "id": "IwrP00BCog3V"
      },
      "source": [
        "## Tuplas são IMUTÁVEIS."
      ]
    },
    {
      "cell_type": "code",
      "execution_count": null,
      "metadata": {
        "colab": {
          "base_uri": "https://localhost:8080/",
          "height": 52
        },
        "id": "Lo0j8EFfqGHw",
        "outputId": "897f7e65-276f-4907-ca7a-778c07749421"
      },
      "outputs": [
        {
          "name": "stdout",
          "output_type": "stream",
          "text": [
            "10 94202625358816\n",
            "1000 140414097810224\n"
          ]
        }
      ],
      "source": [
        "# Função id(x):\n",
        "a = 10\n",
        "print(a, id(a))\n",
        "\n",
        "a = 1000\n",
        "print(a, id(a))"
      ]
    },
    {
      "cell_type": "code",
      "execution_count": null,
      "metadata": {
        "colab": {
          "base_uri": "https://localhost:8080/",
          "height": 121
        },
        "id": "uQ7kqbQVokYj",
        "outputId": "de26e8da-caf7-4511-8217-40801c3abf95"
      },
      "outputs": [
        {
          "name": "stdout",
          "output_type": "stream",
          "text": [
            "[0, 1, 2, 3, 4] 140414095156232\n",
            "94202625358496 94202625358528 94202625358560 94202625358592 94202625358624\n",
            "\n",
            "[0, 1, 20, 3, 4] 140414095156232\n",
            "94202625358496 94202625358528 94202625359136 94202625358592 94202625358624\n",
            "\n"
          ]
        }
      ],
      "source": [
        "# Exemplo 1:\n",
        "L = [0, 1, 2, 3, 4]\n",
        "print(L, id(L) )\n",
        "print(id(L[0]), id(L[1]), id(L[2]), id(L[3]), id(L[4]) )\n",
        "print()\n",
        "\n",
        "L[2] = 20\n",
        "print(L, id(L) )\n",
        "print(id(L[0]), id(L[1]), id(L[2]), id(L[3]), id(L[4]) )\n",
        "print()\n"
      ]
    },
    {
      "cell_type": "code",
      "execution_count": null,
      "metadata": {
        "colab": {
          "base_uri": "https://localhost:8080/",
          "height": 237
        },
        "id": "ZFcSwaFao0SU",
        "outputId": "125635c0-84fc-41bd-8e87-7c584ef95cfd"
      },
      "outputs": [
        {
          "name": "stdout",
          "output_type": "stream",
          "text": [
            "(0, 1, 2, 3, 4)\n"
          ]
        },
        {
          "ename": "TypeError",
          "evalue": "'tuple' object does not support item assignment",
          "output_type": "error",
          "traceback": [
            "\u001b[0;31m---------------------------------------------------------------------------\u001b[0m",
            "\u001b[0;31mTypeError\u001b[0m                                 Traceback (most recent call last)",
            "\u001b[0;32m<ipython-input-30-88e6f5c49395>\u001b[0m in \u001b[0;36m<module>\u001b[0;34m\u001b[0m\n\u001b[1;32m      3\u001b[0m \u001b[0mprint\u001b[0m\u001b[0;34m(\u001b[0m\u001b[0mt\u001b[0m\u001b[0;34m)\u001b[0m\u001b[0;34m\u001b[0m\u001b[0;34m\u001b[0m\u001b[0m\n\u001b[1;32m      4\u001b[0m \u001b[0;34m\u001b[0m\u001b[0m\n\u001b[0;32m----> 5\u001b[0;31m \u001b[0mt\u001b[0m\u001b[0;34m[\u001b[0m\u001b[0;36m2\u001b[0m\u001b[0;34m]\u001b[0m \u001b[0;34m=\u001b[0m \u001b[0;36m20\u001b[0m   \u001b[0;31m# NÃO É PERMITIDO.\u001b[0m\u001b[0;34m\u001b[0m\u001b[0;34m\u001b[0m\u001b[0m\n\u001b[0m\u001b[1;32m      6\u001b[0m \u001b[0mprint\u001b[0m\u001b[0;34m(\u001b[0m\u001b[0mt\u001b[0m\u001b[0;34m)\u001b[0m\u001b[0;34m\u001b[0m\u001b[0;34m\u001b[0m\u001b[0m\n",
            "\u001b[0;31mTypeError\u001b[0m: 'tuple' object does not support item assignment"
          ]
        }
      ],
      "source": [
        "# Exemplo 2:\n",
        "t = (0, 1, 2, 3, 4)\n",
        "print(t)\n",
        "\n",
        "t[2] = 20   # NÃO É PERMITIDO.\n",
        "print(t)"
      ]
    },
    {
      "cell_type": "code",
      "execution_count": null,
      "metadata": {
        "colab": {
          "base_uri": "https://localhost:8080/",
          "height": 104
        },
        "id": "q5SjYszzpD1G",
        "outputId": "4d48c998-4725-403c-c6b9-976bef25f004"
      },
      "outputs": [
        {
          "name": "stdout",
          "output_type": "stream",
          "text": [
            "2 94202625358560\n",
            "[0, 1, 2, 3, 4] 140414124413384 94202625358560\n",
            "\n",
            "20 94202625359136\n",
            "[0, 1, 2, 3, 4] 140414124413384 94202625358560\n"
          ]
        }
      ],
      "source": [
        "# Exemplo 3:\n",
        "x = 2\n",
        "lista = [0, 1, x, 3, 4]\n",
        "print(x, id(x))\n",
        "\n",
        "print(lista, id(lista), id( lista[2] )  )\n",
        "\n",
        "print()\n",
        "\n",
        "x = 20\n",
        "print(x, id(x))\n",
        "print(lista, id(lista), id(lista[2]) )\n"
      ]
    },
    {
      "cell_type": "code",
      "execution_count": null,
      "metadata": {
        "colab": {
          "base_uri": "https://localhost:8080/",
          "height": 121
        },
        "id": "Tge-NJ-OpgMa",
        "outputId": "c7b6305f-6a7b-4d18-eacc-77aab774c0c3"
      },
      "outputs": [
        {
          "name": "stdout",
          "output_type": "stream",
          "text": [
            "[3, 4, 5] 140414095948936\n",
            "(0, 1, 2, [3, 4, 5], 6, 7, 8) 140414097384224 140414095948936 94202625358624\n",
            "\n",
            "[3, 4000, 5] 140414095948936\n",
            "(0, 1, 2, [3, 4000, 5], 6, 7, 8) 140414097384224 140414095948936 140414095121648\n",
            "\n"
          ]
        }
      ],
      "source": [
        "# Exemplo 4:\n",
        "lista = [3, 4, 5]\n",
        "\n",
        "t = (0, 1, 2, lista, 6, 7, 8)\n",
        "\n",
        "print(lista, id(lista) )\n",
        "print(t, id(t), id(t[3]), id(t[3][1]) )\n",
        "print()\n",
        "\n",
        "t[3][1] = 4000\n",
        "\n",
        "print(lista, id(lista) )\n",
        "print(t, id(t), id(t[3]), id(t[3][1]) )\n",
        "print()\n",
        "\n"
      ]
    },
    {
      "cell_type": "markdown",
      "metadata": {
        "id": "Gn1Y2Q8huGf2"
      },
      "source": [
        "## Omissão de parêntesis e desempacotamento de tuplas\n"
      ]
    },
    {
      "cell_type": "code",
      "execution_count": null,
      "metadata": {
        "colab": {
          "base_uri": "https://localhost:8080/",
          "height": 121
        },
        "id": "2YkksnIIuM5J",
        "outputId": "d38d935b-13d8-46b5-bee1-05788274b28a"
      },
      "outputs": [
        {
          "name": "stdout",
          "output_type": "stream",
          "text": [
            "(1, 2) <class 'tuple'>\n",
            "\n",
            "(1,) <class 'tuple'>\n",
            "\n",
            "(1, 2, 3, 4) <class 'tuple'>\n"
          ]
        }
      ],
      "source": [
        "# omissão de parêntesis\n",
        "a = 1,2\n",
        "print(a, type(a)) \n",
        "print()\n",
        "\n",
        "b = 1,\n",
        "print(b, type(b))\n",
        "print()\n",
        "\n",
        "c = 1, 2, 3, 4\n",
        "print(c, type(c))\n",
        "\n",
        "\n",
        "\n"
      ]
    },
    {
      "cell_type": "code",
      "execution_count": null,
      "metadata": {
        "colab": {
          "base_uri": "https://localhost:8080/",
          "height": 34
        },
        "id": "WC4TLSQCvJRY",
        "outputId": "8639ef45-4f79-4565-e253-c1d4a28bfd72"
      },
      "outputs": [
        {
          "name": "stdout",
          "output_type": "stream",
          "text": [
            "(3, 9, 27, 81) <class 'tuple'>\n"
          ]
        }
      ],
      "source": [
        "# omissão de parêntesis em funções\n",
        "def f(x):\n",
        "  #return (x, x**2, x**3, x**4) \n",
        "  return x, x**2, x**3, x**4\n",
        "\n",
        "x = 3\n",
        "y = f(x)\n",
        "print(y, type(y))"
      ]
    },
    {
      "cell_type": "code",
      "execution_count": null,
      "metadata": {
        "colab": {
          "base_uri": "https://localhost:8080/",
          "height": 86
        },
        "id": "-B4Dd5ycwifV",
        "outputId": "46f7fd9f-bd03-4388-b51b-6423a9e7ba7d"
      },
      "outputs": [
        {
          "name": "stdout",
          "output_type": "stream",
          "text": [
            "1 2\n",
            "\n",
            "1 2\n",
            "1 2\n"
          ]
        }
      ],
      "source": [
        "# Desempacotamento de tuplas\n",
        "\n",
        "a = 1,2\n",
        "(b, c) = (1, 2)\n",
        "print(b, c)\n",
        "print()\n",
        "\n",
        "(x, y) = 1, 2\n",
        "print(x, y)\n",
        "\n",
        "z, w = 1, 2\n",
        "print(z, w)"
      ]
    },
    {
      "cell_type": "code",
      "execution_count": null,
      "metadata": {
        "colab": {
          "base_uri": "https://localhost:8080/",
          "height": 208
        },
        "id": "0si8XjNaxVml",
        "outputId": "56268e11-631d-415c-ff5d-bfee7053a22c"
      },
      "outputs": [
        {
          "name": "stdout",
          "output_type": "stream",
          "text": [
            "(1, 2)\n",
            "(1, 7)\n",
            "(-2, 5)\n",
            "(-3, -8)\n",
            "(-1, 9)\n",
            "\n",
            "x= 1  y= 2\n",
            "x= 1  y= 7\n",
            "x= -2  y= 5\n",
            "x= -3  y= -8\n",
            "x= -1  y= 9\n"
          ]
        }
      ],
      "source": [
        "# Desempacotamento:\n",
        "\n",
        "coord = ( (1, 2), (1, 7), (-2, 5), (-3, -8), (-1, 9) )\n",
        "\n",
        "for elemento in coord:\n",
        "  print(elemento)\n",
        "\n",
        "print()\n",
        "\n",
        "for x, y in coord:\n",
        "  print(\"x=\", x, \"y=\", y)\n"
      ]
    },
    {
      "cell_type": "code",
      "execution_count": null,
      "metadata": {
        "id": "bo1TTLaVyGhm"
      },
      "outputs": [],
      "source": [
        "# del\n",
        "(a, b) = 1, 2\n",
        "del (a, b)\n",
        "\n",
        "(c, d) = (1, 2)\n",
        "del c, d"
      ]
    },
    {
      "cell_type": "markdown",
      "metadata": {
        "id": "fqB0tBTzy8mG"
      },
      "source": [
        "## Número de elementos de uma tupla"
      ]
    },
    {
      "cell_type": "code",
      "execution_count": null,
      "metadata": {
        "colab": {
          "base_uri": "https://localhost:8080/",
          "height": 52
        },
        "id": "FNqZa5FLzBiw",
        "outputId": "1b706c4e-e395-4e9f-9863-f6cf0ed5c737"
      },
      "outputs": [
        {
          "name": "stdout",
          "output_type": "stream",
          "text": [
            "5\n",
            "0\n"
          ]
        }
      ],
      "source": [
        "t = (0, 1, 2, 3, 4)\n",
        "print( len(t) )\n",
        "\n",
        "print( len( tuple() ) )\n"
      ]
    },
    {
      "cell_type": "code",
      "execution_count": null,
      "metadata": {
        "id": "AVAn6GhaDnS3"
      },
      "outputs": [],
      "source": []
    }
  ],
  "metadata": {
    "colab": {
      "provenance": [],
      "include_colab_link": true
    },
    "kernelspec": {
      "display_name": "Python 3",
      "language": "python",
      "name": "python3"
    },
    "language_info": {
      "codemirror_mode": {
        "name": "ipython",
        "version": 3
      },
      "file_extension": ".py",
      "mimetype": "text/x-python",
      "name": "python",
      "nbconvert_exporter": "python",
      "pygments_lexer": "ipython3",
      "version": "3.6.8"
    }
  },
  "nbformat": 4,
  "nbformat_minor": 0
}