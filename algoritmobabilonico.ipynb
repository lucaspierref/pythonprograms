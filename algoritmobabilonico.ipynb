{
  "nbformat": 4,
  "nbformat_minor": 0,
  "metadata": {
    "colab": {
      "provenance": [],
      "authorship_tag": "ABX9TyNjabqDbzAAwQyZ4CB/7ZRg",
      "include_colab_link": true
    },
    "kernelspec": {
      "name": "python3",
      "display_name": "Python 3"
    },
    "language_info": {
      "name": "python"
    }
  },
  "cells": [
    {
      "cell_type": "markdown",
      "metadata": {
        "id": "view-in-github",
        "colab_type": "text"
      },
      "source": [
        "<a href=\"https://colab.research.google.com/github/lucaspierref/pythonprograms/blob/main/algoritmobabilonico.ipynb\" target=\"_parent\"><img src=\"https://colab.research.google.com/assets/colab-badge.svg\" alt=\"Open In Colab\"/></a>"
      ]
    },
    {
      "cell_type": "code",
      "source": [
        "# Algoritmo babilônico\n",
        "from __future__ import division\n",
        "\n",
        "def raizq(x, chute = 1, i =20):\n",
        "    # Calcula uma aproximação da raiz quadrada (sqrt) x após i iterações\n",
        "    if i < 1:\n",
        "        raise ValueError(\"É necessário pelo menos uma iteração\")\n",
        "    if chute < 1:\n",
        "        chute = 1 # Precisa ser maior ou igual a 1, senão o valor será incorreto\n",
        "    if x < 0:\n",
        "        return complex(0, raizq(-x, chute, i)) # A (sqrt) de um número negativo é um número complexo\n",
        "    else:\n",
        "        for k in range(i):\n",
        "            chute = 1/2*(chute+x/chute)\n",
        "        return chute"
      ],
      "metadata": {
        "id": "KLeN3J91gB6Z"
      },
      "execution_count": null,
      "outputs": []
    }
  ]
}